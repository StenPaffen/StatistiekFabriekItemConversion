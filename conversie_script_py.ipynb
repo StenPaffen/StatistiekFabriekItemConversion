{
 "cells": [
  {
   "cell_type": "code",
   "execution_count": 1,
   "id": "55aeab6e",
   "metadata": {},
   "outputs": [],
   "source": [
    "import pandas as pd\n",
    "import re\n",
    "import os"
   ]
  },
  {
   "cell_type": "code",
   "execution_count": 2,
   "id": "88f1fc93",
   "metadata": {},
   "outputs": [
    {
     "name": "stdout",
     "output_type": "stream",
     "text": [
      "Index([40, 50], dtype='int64')\n"
     ]
    }
   ],
   "source": [
    "pd.set_option('display.max_colwidth', 100)\n",
    "taxonomy_conversion_table = pd.read_csv(\"taxonomyLookupTablecopy.csv\", sep = ';')\n",
    "taxonomy_conversion_table['oldTax'] = taxonomy_conversion_table['oldTax'].str.replace('Inferenti?le', 'Inferentiële')\n",
    "taxonomy_conversion_table['oldTax'] = taxonomy_conversion_table['oldTax'].str.replace('inferenti?le', 'inferentiële')\n",
    "print(taxonomy_conversion_table[taxonomy_conversion_table['oldTax']=='exsection: Inferentiële statistiek,Anova,Twoway + interactie '].index)"
   ]
  },
  {
   "cell_type": "code",
   "execution_count": 3,
   "id": "c78fd810",
   "metadata": {},
   "outputs": [
    {
     "name": "stdout",
     "output_type": "stream",
     "text": [
      "exsection: Beschrijvende statistiek,Regressie (beschrijvende stat.),Formules \n"
     ]
    },
    {
     "data": {
      "text/plain": [
       "'exsection: Inferential Statistics/Regression/R squared'"
      ]
     },
     "execution_count": 3,
     "metadata": {},
     "output_type": "execute_result"
    }
   ],
   "source": [
    "print(taxonomy_conversion_table['oldTax'].iloc[0])\n",
    "taxonomy_conversion_table['newTax'].iloc[0]"
   ]
  },
  {
   "cell_type": "code",
   "execution_count": 4,
   "id": "1f0d2531",
   "metadata": {},
   "outputs": [],
   "source": [
    "def tax_converter(path, table):\n",
    "    \n",
    "    #corrected_file = path.replace('.Rmd', '_corrected.Rmd')\n",
    "    \n",
    "    not_found = set()\n",
    "    with open(path, 'r') as source_file:#, open(corrected_file, 'w') as corrected_file:\n",
    "        for line in source_file:\n",
    "            #DON'T DO DESTRUCTIVE SHIT.\n",
    "            \n",
    "            #find the 'exsection:' line in the files\n",
    "            if line.startswith('exsection:'):\n",
    "                \n",
    "                #save the line and strip it from leading and trailing whitespace                \n",
    "                to_convert_line = line.strip()\n",
    "                ##print(to_convert_line)\n",
    "                \n",
    "                index_oldTax = taxonomy_conversion_table[taxonomy_conversion_table['oldTax']==to_convert_line + ' '].index\n",
    "                if len(index_oldTax) > 0:\n",
    "                    #modify it in corrected_file\n",
    "                    continue\n",
    "                    \n",
    "                elif len(index_oldTax) == 0:\n",
    "                    index_newTax = taxonomy_conversion_table[taxonomy_conversion_table['newTax']==to_convert_line].index\n",
    "                    if len(index_newTax) > 0:\n",
    "                        #return to_convert_line\n",
    "                        continue\n",
    "                    else:\n",
    "                        return to_convert_line\n",
    "                        #continue\n",
    "                        \n",
    "                        \n",
    "                    \n",
    "\n",
    "\n",
    "                \n",
    "                #if the line is found in conversion table oldTax\n",
    "                    #update it with corresponding line in newTax\n",
    "                \n",
    "                \n",
    "                    \n",
    "                \n",
    "                #else make a note of the path so i can check manually why it doesn't work.\n",
    "                \n",
    "                \n",
    "                \n",
    "                \n",
    "            else:\n",
    "                continue\n",
    "            \n",
    "            \n",
    "            \n",
    "            #print(line, nmr)\n",
    "        \n",
    "        #original_text = source_file.read()\n",
    "        #copy = original_text\n",
    "        #print(copy)  \n",
    "    return None\n"
   ]
  },
  {
   "cell_type": "markdown",
   "id": "f2be17ad",
   "metadata": {},
   "source": [
    "# File loop\n",
    "je vindt ze niet doordat er in de oldTax een ' ' (spatie volgt) <br>\n",
    "### directories"
   ]
  },
  {
   "cell_type": "code",
   "execution_count": 12,
   "id": "bdc1633d",
   "metadata": {},
   "outputs": [],
   "source": [
    "#multiple choice dir's\n",
    "mc_directory_pc = \"C:\\\\Users\\\\stenp\\\\Documents\\\\Werk\\\\StatistiekFabriekItemConversion\\\\MultipleChoice\\\\MultipleChoice_Items\"\n",
    "mc_directory_laptop = \"C:\\\\Users\\\\nicol\\\\Documents\\\\Werk\\\\StatistiekFabriekItemConversion\\\\MultipleChoice\\\\MultipleChoice_Items\"\n",
    "\n",
    "# Openstring/probability\n",
    "osp_directory_laptop = \"C:\\\\Users\\\\nicol\\\\Documents\\\\Werk\\\\StatistiekFabriekItemConversion\\\\OpenString\\\\OpenString_Items\\\\Probability\"\n",
    "\n",
    "# Openstring/Inferential Statistics\n",
    "osi_directory_laptop = \"C:\\\\Users\\\\nicol\\\\Documents\\\\Werk\\\\StatistiekFabriekItemConversion\\\\OpenString\\\\OpenString_Items\\\\Inferential Statistics\""
   ]
  },
  {
   "cell_type": "code",
   "execution_count": 14,
   "id": "14751a88",
   "metadata": {
    "scrolled": true
   },
   "outputs": [
    {
     "name": "stdout",
     "output_type": "stream",
     "text": [
      "uva-anova-f-test-807-nl.Rmd\n",
      "uva-oneway-anova-806-nl.Rmd\n",
      "{None}\n"
     ]
    }
   ],
   "source": [
    "#zoek door alle files in de variabele multiple choice map\n",
    "not_found = set()\n",
    "already_correct = []\n",
    "to_correct = set()\n",
    "for root, _, files in os.walk(osi_directory_laptop):\n",
    "    for filename in files:\n",
    "        if filename.endswith('.Rmd'):\n",
    "            file_path = os.path.join(root, filename)\n",
    "            #print(filename)\n",
    "            \n",
    "            not_found.add(tax_converter(file_path, taxonomy_conversion_table))\n",
    "            \n",
    "        else:\n",
    "            continue\n",
    "print(not_found)"
   ]
  },
  {
   "cell_type": "markdown",
   "id": "09f2161d",
   "metadata": {},
   "source": [
    "# Regels niet gevonden in lookuptable\n",
    "## Correctie nodig in csv file Multiple Choice\n",
    "<b> Al verbeterd </b><br>\n",
    "'exsection: Kansrekening,Kansrekening (ond.),Productregel' <b>verbeterd</b><br>\n",
    "'exsection: Kansrekening,Kansrekening (ond.),Somregel' <b>verbeterd</b><br>\n",
    "'exsection: Kansrekening,Kansdefinities,Kansverdeling,Normale verdeling,Onafhankelijkheid van twee of meer gebeurtenissen' <b>verbeterd</b><br>\n",
    "'exsection: Kansrekening,Kansverdeling,Voorwaardelijke kansen' <b>verbeterd</b><br>\n",
    "'exsection: Distributions/Discrete/Binomial'<b>verbeterd</b><br>\n",
    "\n",
    "\n",
    "<b>Suggesties</b><br>\n",
    "'exsection: Kansrekening,Kansverdeling,Uniforme verdeling' --> Distributions/Continuous/Uniform<br> \n",
    "'exsection: Kansrekening,Kansverdeling,Binomiale verdeling'--> Distributions/Discrete/Binomial <br> \n",
    "\n",
    "<b> Nog handmatig te doen </b><br>\n",
    "'exsection: Kansrekening,Kansdefinities,Gebeurtenis'<br>\n",
    "'exsection: Kansrekening,Kansrekening (ond.),Kansverdeling,Kansverdeling steekproefgemiddelde (onafhankelijke,Continue stochastische variabelen'<br>\n",
    "'exsection: Kansrekening,Kansdefinities,Kansrekening (ond.),Somregel,Onafhankelijkheid van twee of meer gebeurtenissen'<br>\n",
    "None<br>\n",
    "'exsection: Kansrekening,Kansrekening (ond.),Optelregel voor kans op vereniging van twee gebeur'<br>\n",
    "'exsection: Kansrekening,Kansrekening (ond.),Kansverdeling,Normale verdeling,Productregel'<br> \n",
    "'exsection: Kansrekening,Kansdefinities,Klassieke kansdefinitie,Gebeurtenis'<br>\n",
    "'exsection: Kansrekening,Kansrekening (ond.),Kansverdeling,Kansverdeling steekproefgemiddelde (onafhankelijke,Discrete stochastische variabelen (elementair begr'<br> \n",
    "'exsection: Kansrekening,Kansdefinities,Kansverdeling,Voorwaardelijke kansen,Onafhankelijkheid van twee of meer gebeurtenissen'<br> \n",
    "'exsection: Inferentiële statistiek,Toetstheorie,Hypotheses (nul en alternatief; één- en tweezijdig'}\n",
    "\n",
    "## Te verbeteren in csv file Open String Probability \n",
    "<b>Allemaal al correct, alleen achterhalen wat None betekent </b><br>\n",
    "'exsection: Probability/Elementary Probability/Random variables/Expected value'<br>\n",
    "'exsection: Probability/Elementary Probability/Conditional probability'<br>\n",
    "'None'<br>\n",
    "'exsection: Probability/Elementary Probability/General Rules/Union'<br>\n",
    "'exsection: Probability/Elementary Probability/Random variables/Rules for expected values'<br>\n",
    "'exsection: Probability/Elementary Probability/General Rules/Addition rule'<br>\n",
    "'exsection: Probability/Elementary Probability/General Rules/Multiplication rule'<br>\n",
    "\n",
    "## Te verbeteren in csv file Open String Inferential Statistics\n",
    "'None'"
   ]
  },
  {
   "cell_type": "code",
   "execution_count": null,
   "id": "7df92137",
   "metadata": {},
   "outputs": [],
   "source": []
  }
 ],
 "metadata": {
  "kernelspec": {
   "display_name": "Python 3 (ipykernel)",
   "language": "python",
   "name": "python3"
  },
  "language_info": {
   "codemirror_mode": {
    "name": "ipython",
    "version": 3
   },
   "file_extension": ".py",
   "mimetype": "text/x-python",
   "name": "python",
   "nbconvert_exporter": "python",
   "pygments_lexer": "ipython3",
   "version": "3.10.9"
  }
 },
 "nbformat": 4,
 "nbformat_minor": 5
}
