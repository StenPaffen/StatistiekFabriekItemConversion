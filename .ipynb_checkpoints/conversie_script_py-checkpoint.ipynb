{
 "cells": [
  {
   "cell_type": "code",
   "execution_count": 1,
   "id": "55aeab6e",
   "metadata": {},
   "outputs": [],
   "source": [
    "import pandas as pd\n",
    "import re\n",
    "import os"
   ]
  },
  {
   "cell_type": "code",
   "execution_count": 8,
   "id": "88f1fc93",
   "metadata": {},
   "outputs": [
    {
     "name": "stdout",
     "output_type": "stream",
     "text": [
      "Index([40, 50], dtype='int64')\n"
     ]
    }
   ],
   "source": [
    "pd.set_option('display.max_colwidth', 100)\n",
    "taxonomy_conversion_table = pd.read_csv(\"taxonomyLookupTable.csv\", sep = ';')\n",
    "taxonomy_conversion_table['oldTax'] = taxonomy_conversion_table['oldTax'].str.replace('Inferenti?le', 'Inferentiële')\n",
    "taxonomy_conversion_table['oldTax'] = taxonomy_conversion_table['oldTax'].str.replace('inferenti?le', 'inferentiële')\n",
    "print(taxonomy_conversion_table[taxonomy_conversion_table['oldTax']=='exsection: Inferentiële statistiek,Anova,Twoway + interactie '].index)"
   ]
  },
  {
   "cell_type": "code",
   "execution_count": 3,
   "id": "c78fd810",
   "metadata": {},
   "outputs": [
    {
     "name": "stdout",
     "output_type": "stream",
     "text": [
      "exsection: Beschrijvende statistiek,Regressie (beschrijvende stat.),Formules \n"
     ]
    },
    {
     "data": {
      "text/plain": [
       "'exsection: Inferential Statistics/Regression/R squared'"
      ]
     },
     "execution_count": 3,
     "metadata": {},
     "output_type": "execute_result"
    }
   ],
   "source": [
    "print(taxonomy_conversion_table['oldTax'].iloc[0])\n",
    "taxonomy_conversion_table['newTax'].iloc[0]"
   ]
  },
  {
   "cell_type": "code",
   "execution_count": 31,
   "id": "1f0d2531",
   "metadata": {},
   "outputs": [],
   "source": [
    "def tax_converter(path, table):\n",
    "    \n",
    "    #corrected_file = path.replace('.Rmd', '_corrected.Rmd')\n",
    "    \n",
    "    not_found = set()\n",
    "    with open(path, 'r') as source_file:#, open(corrected_file, 'w') as corrected_file:\n",
    "        for line in source_file:\n",
    "            #DON'T DO DESTRUCTIVE SHIT.\n",
    "            \n",
    "            #find the 'exsection:' line in the files\n",
    "            if line.startswith('exsection:'):\n",
    "                \n",
    "                #save the line and strip it from leading and trailing whitespace                \n",
    "                to_convert_line = line.strip()\n",
    "                ##print(to_convert_line)\n",
    "                \n",
    "                index_oldTax = taxonomy_conversion_table[taxonomy_conversion_table['oldTax']==to_convert_line + ' '].index\n",
    "                if len(index_oldTax) > 0:\n",
    "                    #modify it in corrected_file\n",
    "                    continue\n",
    "                    \n",
    "                elif len(index_oldTax) == 0:\n",
    "                    index_newTax = taxonomy_conversion_table[taxonomy_conversion_table['newTax']==to_convert_line].index\n",
    "                    if len(index_newTax) > 0:\n",
    "                        #return to_convert_line\n",
    "                        continue\n",
    "                    else:\n",
    "                        return to_convert_line\n",
    "                        #continue\n",
    "                        \n",
    "                        \n",
    "                    \n",
    "\n",
    "\n",
    "                \n",
    "                #if the line is found in conversion table oldTax\n",
    "                    #update it with corresponding line in newTax\n",
    "                \n",
    "                \n",
    "                    \n",
    "                \n",
    "                #else make a note of the path so i can check manually why it doesn't work.\n",
    "                \n",
    "                \n",
    "                \n",
    "                \n",
    "            else:\n",
    "                continue\n",
    "            \n",
    "            \n",
    "            \n",
    "            #print(line, nmr)\n",
    "        \n",
    "        #original_text = source_file.read()\n",
    "        #copy = original_text\n",
    "        #print(copy)  \n",
    "    return None\n"
   ]
  },
  {
   "cell_type": "markdown",
   "id": "f2be17ad",
   "metadata": {},
   "source": [
    "# je vindt ze niet doordat er in de oldTax een ' ' (spatie volgt). bij line.strip heb je die weggehaald"
   ]
  },
  {
   "cell_type": "code",
   "execution_count": 33,
   "id": "14751a88",
   "metadata": {
    "scrolled": true
   },
   "outputs": [
    {
     "name": "stdout",
     "output_type": "stream",
     "text": [
      "{'exsection: Kansrekening,Kansrekening (ond.),Productregel', 'exsection: Kansrekening,Kansverdeling,Binomiale verdeling', 'exsection: Kansrekening,Kansrekening (ond.),Somregel', 'exsection: Kansrekening,Kansdefinities,Kansverdeling,Normale verdeling,Onafhankelijkheid van twee of meer gebeurtenissen', 'exsection: Kansrekening,Kansdefinities,Gebeurtenis', 'exsection: Kansrekening,Kansrekening (ond.),Kansverdeling,Kansverdeling steekproefgemiddelde (onafhankelijke,Continue stochastische variabelen', 'exsection: Kansrekening,Kansdefinities,Kansrekening (ond.),Somregel,Onafhankelijkheid van twee of meer gebeurtenissen', None, 'exsection: Kansrekening,Kansverdeling,Uniforme verdeling', 'exsection: Distributions/Discrete/Binomial', 'exsection: Kansrekening,Kansrekening (ond.),Optelregel voor kans op vereniging van twee gebeur', 'exsection: Kansrekening,Kansrekening (ond.),Kansverdeling,Normale verdeling,Productregel', 'exsection: Kansrekening,Kansverdeling,Voorwaardelijke kansen', 'exsection: Kansrekening,Kansdefinities,Klassieke kansdefinitie,Gebeurtenis', 'exsection: Kansrekening,Kansrekening (ond.),Kansverdeling,Kansverdeling steekproefgemiddelde (onafhankelijke,Discrete stochastische variabelen (elementair begr', 'exsection: Kansrekening,Kansdefinities,Kansverdeling,Voorwaardelijke kansen,Onafhankelijkheid van twee of meer gebeurtenissen', 'exsection: Inferentiële statistiek,Toetstheorie,Hypotheses (nul en alternatief; één- en tweezijdig'}\n"
     ]
    }
   ],
   "source": [
    "cwd = os.getcwd()\n",
    "cwd\n",
    "main_directory_pc = \"C:\\\\Users\\\\stenp\\\\Documents\\\\Werk\\\\StatistiekFabriekItemConversion\\\\MultipleChoice\\\\MultipleChoice_Items\"\n",
    "main_directory_laptop = \"C:\\\\Users\\\\nicol\\\\Documents\\\\Werk\\\\StatistiekFabriekItemConversion\\\\MultipleChoice\\\\MultipleChoice_Items\"\n",
    "\n",
    "#zoek door alle files in de variabele Main directory ## voor nu dus alleen multiple choice\n",
    "not_found = set()\n",
    "already_correct = []\n",
    "to_correct = set()\n",
    "for root, _, files in os.walk(main_directory_pc):\n",
    "    for filename in files:\n",
    "        if filename.endswith('.Rmd'):\n",
    "            file_path = os.path.join(root, filename)\n",
    "            #print(filename)\n",
    "            \n",
    "            not_found.add(tax_converter(file_path, taxonomy_conversion_table))\n",
    "            \n",
    "        else:\n",
    "            continue\n",
    "print(not_found)"
   ]
  },
  {
   "cell_type": "markdown",
   "id": "09f2161d",
   "metadata": {},
   "source": [
    "# Regels niet gevonden in lookuptable\n",
    "of schrijf iets van if in oldtax dit, als in newtax dat, als niks dan maak notitie:\n",
    "\n",
    "## dit is de 17 regels lange set met de nog niet gevonden regels binnen multiple choice items, de rest is veranderbaar\n",
    "\n",
    "'exsection: Kansrekening,Kansrekening (ond.),Productregel'<br>\n",
    "'exsection: Kansrekening,Kansverdeling,Binomiale verdeling'<br>\n",
    "'exsection: Kansrekening,Kansrekening (ond.),Somregel'<br>\n",
    "'exsection: Kansrekening,Kansdefinities,Kansverdeling,Normale verdeling,Onafhankelijkheid van twee of meer gebeurtenissen'<br> 'exsection: Kansrekening,Kansdefinities,Gebeurtenis'<br>\n",
    "'exsection: Kansrekening,Kansrekening (ond.),Kansverdeling,Kansverdeling steekproefgemiddelde (onafhankelijke,Continue stochastische variabelen'<br>\n",
    "'exsection: Kansrekening,Kansdefinities,Kansrekening (ond.),Somregel,Onafhankelijkheid van twee of meer gebeurtenissen'<br>\n",
    "None<br>\n",
    "'exsection: Kansrekening,Kansverdeling,Uniforme verdeling'<br> \n",
    "'exsection: Distributions/Discrete/Binomial'<br>\n",
    "'exsection: Kansrekening,Kansrekening (ond.),Optelregel voor kans op vereniging van twee gebeur'<br>\n",
    "'exsection: Kansrekening,Kansrekening (ond.),Kansverdeling,Normale verdeling,Productregel'<br> \n",
    "'exsection: Kansrekening,Kansverdeling,Voorwaardelijke kansen'<br>\n",
    "'exsection: Kansrekening,Kansdefinities,Klassieke kansdefinitie,Gebeurtenis'<br>\n",
    "'exsection: Kansrekening,Kansrekening (ond.),Kansverdeling,Kansverdeling steekproefgemiddelde (onafhankelijke,Discrete stochastische variabelen (elementair begr'<br> \n",
    "'exsection: Kansrekening,Kansdefinities,Kansverdeling,Voorwaardelijke kansen,Onafhankelijkheid van twee of meer gebeurtenissen'<br> \n",
    "'exsection: Inferentiële statistiek,Toetstheorie,Hypotheses (nul en alternatief; één- en tweezijdig'}\n",
    "\n",
    "\n",
    "of handmatig:\n",
    "1. exsection: Kansrekening,Kansverdeling,Binomiale verdeling\n",
    "2. exsection: Kansrekening,Kansrekening (ond.),Optelregel voor kans op vereniging van twee gebeur\n",
    "3. exsection: Kansrekening,Kansdefinities,Klassieke kansdefinitie,Gebeurtenis\n",
    "4. exsection: Kansrekening,Kansverdeling,Voorwaardelijke kansen\n",
    "5. exsection: Kansrekening,Kansverdeling,Uniforme verdeling\n",
    "6. exsection: Kansrekening,Kansrekening (ond.),Productregel\n",
    "7. exsection: Kansrekening,Kansrekening (ond.),Somregel\n",
    "\n",
    "\n"
   ]
  }
 ],
 "metadata": {
  "kernelspec": {
   "display_name": "Python 3 (ipykernel)",
   "language": "python",
   "name": "python3"
  },
  "language_info": {
   "codemirror_mode": {
    "name": "ipython",
    "version": 3
   },
   "file_extension": ".py",
   "mimetype": "text/x-python",
   "name": "python",
   "nbconvert_exporter": "python",
   "pygments_lexer": "ipython3",
   "version": "3.10.9"
  }
 },
 "nbformat": 4,
 "nbformat_minor": 5
}
